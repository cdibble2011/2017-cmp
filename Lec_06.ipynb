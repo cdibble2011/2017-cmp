{
 "cells": [
  {
   "cell_type": "markdown",
   "metadata": {},
   "source": [
    "# Physics 300 \n",
    "## Computational Physics I (Fall 2017)\n",
    "## BPB-248, Tues/Thurs 10:00 - 11:15 am \n",
    "\n",
    "|Instructor| Prof. Qiang Zhu|\n",
    "|--|-------------------------------|\n",
    "|Email | qiang.zhu@unlv.edu|\n",
    "|Website|http://www.physics.unlv.edu/~qzhu/|\n",
    "|Office| BPB 232|\n",
    "|Office hours | Tues/Thurs 8:30 - 10:00 |"
   ]
  },
  {
   "cell_type": "markdown",
   "metadata": {},
   "source": [
    "# 6 Derivatives\n",
    "The opposite of a numerical integral is a numerical derivative. \n",
    "It is less often mentioned as it is much more straightforward to calculate.\n",
    "\n",
    "The standard definition of a derivative is\n",
    "$$\\frac{df}{dx} = \\lim_{h \\to 0} \\frac{f(x+h)-f(x)}{h}$$ "
   ]
  },
  {
   "cell_type": "code",
   "execution_count": 37,
   "metadata": {},
   "outputs": [
    {
     "data": {
      "image/png": "[encoded data removed]",
      "text/plain": [
       "<matplotlib.figure.Figure at 0x1c78876fcf8>"
      ]
     },
     "metadata": {},
     "output_type": "display_data"
    }
   ],
   "source": [
    "# Let's start with a simple example, try to do integration on x^2 over [0,3]\n",
    "import matplotlib.pyplot as plt\n",
    "import numpy as np\n",
    "\n",
    "#define the function\n",
    "f = lambda x: -x**4 + 4*x**3 + 2\n",
    "\n",
    "#define the parameters\n",
    "x_min, x_max = 0, 3\n",
    "npoints = 100\n",
    "x0 = (x_min+x_max)/2\n",
    "deltax = 0.5\n",
    "\n",
    "#draw the plot\n",
    "x = np.linspace(x_min, x_max, npoints)\n",
    "plt.plot(x,f(x))\n",
    "\n",
    "#draw the derivative\n",
    "x_1 = np.array([x0-deltax, x0, x0+deltax])\n",
    "plt.plot(x_1,f(x_1),'-o')\n",
    "for point in x_1:\n",
    "    linex, liney = [point, point], [0, f(point)]\n",
    "    plt.plot(linex, liney, color='black', linewidth=2.0)    \n",
    "\n",
    "plt.text(x_1[0]+deltax/2, f(x_1[0]+deltax/2)+1, r'backward difference', {'ha': 'left', 'va': 'bottom'}, rotation=90)    \n",
    "plt.text(x_1[1]+deltax/2, f(x_1[1]+deltax/2)+1, r'forwward difference', {'ha': 'left', 'va': 'bottom'}, rotation=90)    \n",
    "\n",
    "    \n",
    "plt.xlabel('x')\n",
    "plt.ylabel('$f(x)$')\n",
    "plt.xlim([0,3])\n",
    "plt.show()"
   ]
  },
  {
   "cell_type": "markdown",
   "metadata": {},
   "source": [
    "## 6.1 Forward, backward and central differences\n",
    "The forward and backward differences typically give about the same answer and in many cases you can use either. \n",
    "Most often one uses the forward difference.\n",
    "\n",
    "$$\\frac{df}{dx} = \\lim_{h \\to 0} \\frac{f(x+h)-f(x)}{h}$$ \n",
    "\n",
    "$$\\frac{df}{dx} = \\lim_{h \\to 0} \\frac{f(x)-f(x-h)}{h}$$ \n",
    "\n",
    "$$\\frac{df}{dx} = \\lim_{h \\to 0} \\frac{f(x+h/2)-f(x-h/2)}{h}$$ \n",
    "\n",
    "\n",
    "When there is a discontinuity in the derivative of the function at the point $x$, you need to be careful.\n",
    "\n",
    "### Quiz: Write a small program to calculate the backward and forward diffrence\n",
    "\n"
   ]
  },
  {
   "cell_type": "code",
   "execution_count": null,
   "metadata": {
    "collapsed": true
   },
   "outputs": [],
   "source": [
    "#a small program to calculate the backward and forward diffrence\n"
   ]
  },
  {
   "cell_type": "markdown",
   "metadata": {
    "collapsed": true
   },
   "source": [
    "## 6.2 Second derivatives\n",
    "We can also derive numerical approximations for the second derivative of a\n",
    "function $f(x)$. The second derivative is, by definition, the derivative of the\n",
    "first derivative, so we can calculate it by applying our first-derivative formulas\n",
    "twice. For example, starting with the central difference formula, we\n",
    "can write expressions for the first derivative at $x + h/2$ and $x − h/2$ thus:\n",
    "\n",
    "$$f'(x+h/2) \\approx \\frac{f(x+h)-f(x)}{h}$$\n",
    "$$f'(x-h/2) \\approx \\frac{f(x)-f(x-h)}{h}$$\n",
    "\n",
    "\n",
    "$$f\"(x) \\approx \\frac{f(x+h)-2f(x)+f(x-h)}{h^2}$$ \n",
    "\n",
    "\n"
   ]
  },
  {
   "cell_type": "code",
   "execution_count": null,
   "metadata": {
    "collapsed": true
   },
   "outputs": [],
   "source": [
    "#a small program to calculate the 2nd derivatives\n"
   ]
  },
  {
   "cell_type": "markdown",
   "metadata": {
    "collapsed": true
   },
   "source": [
    "## 6.3 Derivative of noisy data\n",
    "Suppose we have some measurements of a quantity that, when plotted on a\n",
    "graph, look like Fig. 5.11a. Perhaps they come from an experiment in the lab,\n",
    "for instance. The overall shape of the curve is clear from the figure, but there\n",
    "is some noise in the data, so the curve is not completely smooth.\n",
    "Now suppose we want to calculate the first derivative of this curve. So we\n",
    "write a program to calculate, say, the forward difference at each point and plot\n",
    "the values we get. The result is shown in Fig. 5.11b. As you can see, taking the\n",
    "derivative has made our noise problem much worse. Now it’s almost impossible\n",
    "to see the shape of the curve. This is a common problem with numerical\n",
    "derivatives—if there’s any noise in the curve you’re differentiating, then it can\n",
    "be greatly exaggerated by taking the derivative, perhaps to the point where the\n",
    "results are useless."
   ]
  },
  {
   "cell_type": "code",
   "execution_count": 6,
   "metadata": {},
   "outputs": [
    {
     "data": {
      "image/png": "[encoded data removed]",
      "text/plain": [
       "<matplotlib.figure.Figure at 0x1ed9df79198>"
      ]
     },
     "metadata": {},
     "output_type": "display_data"
    }
   ],
   "source": [
    "#a small program to generate random noise\n",
    "\n",
    "import matplotlib.pyplot as plt\n",
    "import numpy as np\n",
    "\n",
    "#define the function\n",
    "f = lambda x: x * np.sin(x)  \n",
    "\n",
    "#define the paramters for the plot\n",
    "a,b = 0,3\n",
    "npoints = 100\n",
    "\n",
    "x = np.linspace(a,b,npoints)\n",
    "y = f(x) + np.random.rand(npoints) - 0.5\n",
    "plt.plot(x,y)\n",
    "plt.plot(x,f(x))\n",
    "\n",
    "plt.xlabel('x')\n",
    "plt.ylabel('$f(x)$')\n",
    "plt.xlim([a,b])\n",
    "plt.show()\n"
   ]
  },
  {
   "cell_type": "markdown",
   "metadata": {},
   "source": [
    "Unfortunately, this kind of issue is common with physics data, and this\n",
    "is one of the reasons why numerical derivatives are used less than numerical\n",
    "integrals. There are, however, some things we can do to mitigate the problem,\n",
    "although they all also decrease the accuracy of our results.\n",
    "\n",
    "- increase the value of h\n",
    "- fit a curve to a portion of the data near the point where we want the derivative\n",
    "- smooth the data in some other fashion before differentiating"
   ]
  },
  {
   "cell_type": "markdown",
   "metadata": {},
   "source": [
    "## 6.4 Homework\n",
    "\n",
    "### 6.4.1 Try to find a way to deal with the noisy data and give your reasoning.\n",
    "\n",
    "### 6.4.2 Heat capacity of a solid\n",
    "Debye's thory of solids gives the heat capacity of a solid at temperature $T$ to be\n",
    "\n",
    "$$C_V = 9V_\\rho k_B (\\frac{T}{\\theta_D})^3 \\int_0^{\\theta_D/T} \\frac{x^4e^x}{(e^x-1)^2}dx$$\n",
    "\n",
    "where $V$ is the volume of the solid, $\\rho$ is the density of atoms, $k_B$ is Boltzmann constant, and $\\theta$ is the Debye temperature.\n",
    "\n",
    "- Write a program to calculate $C_V$ for a given value of $T$ for a sample of 1000 $cm^3$ of aluminum, in which the density $\\rho$ is 6.022 $\\times 10^{28} m^3$ and $\\theta_D$ = 428 K. \n",
    "\n",
    "- Plot $C_V$ as a function of temperature from $T$ = 5 K to $T$ = 500 K."
   ]
  },
  {
   "cell_type": "code",
   "execution_count": null,
   "metadata": {
    "collapsed": true
   },
   "outputs": [],
   "source": [
    "\n",
    "#!/usr/bin/env python3\n",
    "# -*- coding: utf-8 -*-\n",
    "#\"\"\"\n",
    "#Created on Tue Sep 25 16:42:48 2018\n",
    "\n",
    "#@author: cdibble\n",
    "#\"\"\"\n",
    "\n",
    "import numpy as np\n",
    "import matplotlib.pyplot as plt\n",
    "\n",
    "# A few Constants to work with\n",
    "\n",
    "#Upper/Lower bounds of our temperature spectrum, limits for x on graph\n",
    "lowT = 5\n",
    "highT = 500\n",
    "#Number of intervals to calculate\n",
    "n = 500\n",
    "\n",
    "#Volume of Aluminum in m**3\n",
    "V = .001\n",
    "#Atomic density of Aluminum in m**3\n",
    "rho = 6.022*(10**28)\n",
    "#Boltzmann constant in m**2kg/s**2Kelvin\n",
    "kB = 1.38064852*(10**-23)\n",
    "#Debye Temp in kelvin\n",
    "thetaD = 428\n",
    "#Cv's pre-integral constant\n",
    "constant = (9*V)*(rho*kB/(thetaD**3))\n",
    "#the intervals of temperature\n",
    "T = np.zeros(n+2)\n",
    "#store the acquired values of Cv\n",
    "CvStore = np.zeros(n+2)\n",
    "\n",
    "\n",
    "#An loop to make/store all the temperature slices for access later\n",
    "def makeTemps(l, h):\n",
    "    for i in range(1,n+1):\n",
    "        g = h*i/n\n",
    "        v = l+g\n",
    "        # keep the temperature under 500\n",
    "        if v >= highT - .01:\n",
    "            break\n",
    "        else:\n",
    "            T[i-1] = v \n",
    "        #Debugging ahead...\n",
    "        #print(\"T[\",i,\"]\",\"=\",g)\n",
    "        \n",
    "# Trapezoid method: integral formula as a function\n",
    "def Trapezoid(aTrap, bTrap):\n",
    "    # The integrand\n",
    "    f = lambda x: (a(x)*x**4)/(a(x)-1)**2\n",
    "    a = lambda x: np.exp(x)\n",
    "    \n",
    "    area = np.zeros(n+5)\n",
    "    resultsx = np.linspace(aTrap, bTrap, n+2)\n",
    "    resultsy = f(resultsx)\n",
    "    \n",
    "    #define the X, Y points \n",
    "    dx = (bTrap - aTrap) / n\n",
    "\n",
    "    #for loop to iterate the integral\n",
    "    for i in range(n):\n",
    "        g = (resultsy[i]+resultsy[i+1]) * dx/2\n",
    "        if np.isnan(g) == True:\n",
    "            g = 0.0\n",
    "        else:\n",
    "            #a nice debug feature\n",
    "            #print(\"g:\",g, i)\n",
    "            #print(\"area: \", sum(area), i)\n",
    "            area[i] = g      \n",
    "    #return the results of the integral, and remove all nan's\n",
    "    return np.sum(np.nan_to_num(area))\n",
    "\n",
    "\n",
    "\n",
    "#creat and store all slices Cv to plot later\n",
    "def Cv(x,y):\n",
    "        a = y**3\n",
    "        b = thetaD/y\n",
    "        h = Trapezoid(0, b)\n",
    "        #a nice debug feature\n",
    "        #print(\"h: \",h)\n",
    "        k = h*constant*a\n",
    "        if np.isnan(k) == True:\n",
    "            k = 0.0\n",
    "        #a nice debug feature\n",
    "        #print(\"k: \",k)\n",
    "        \n",
    "        return(k)\n",
    "\n",
    "#main function to bring it all together\n",
    "def CvRecursion(l, h, plot = 1):\n",
    "    makeTemps(lowT,highT)\n",
    "    #print(\"maketemps: \", makeTemps)\n",
    "    \n",
    "    for i in range(1,n):\n",
    "        z = T[i]\n",
    "        #print(Cv(i,z))\n",
    "        CvStore[i] = Cv(i,z)\n",
    "\n",
    "    #draw a plot of Cv values vs temperature\n",
    "    if plot==1:\n",
    "        x = np.linspace(lowT,highT,n+2)\n",
    "        y = CvStore        \n",
    "        plt.plot(x, y, 'r')\n",
    "                   \n",
    "        \n",
    "        plt.xlim([lowT,highT])\n",
    "        plt.ylim([min(CvStore),max(CvStore)])\n",
    "        plt.show()\n",
    "    #a nice debug feature\n",
    "    #print(\"The area under the curve is: \", round(sum(area), 4))\n",
    "\n",
    "\n",
    "    return sum(CvStore)\n",
    "\n",
    "\n",
    "CvRecursion(lowT,highT, plot = 1)\n",
    "#a nice debug feature\n",
    "#print(\"Cvstore: \",sum(CvStore))\n",
    "\n",
    "        \n",
    "        "
   ]
  }
 ],
 "metadata": {
  "kernelspec": {
   "display_name": "Python 3",
   "language": "python",
   "name": "python3"
  },
  "language_info": {
   "codemirror_mode": {
    "name": "ipython",
    "version": 3
   },
   "file_extension": ".py",
   "mimetype": "text/x-python",
   "name": "python",
   "nbconvert_exporter": "python",
   "pygments_lexer": "ipython3",
   "version": "3.7.0"
  }
 },
 "nbformat": 4,
 "nbformat_minor": 2
}
